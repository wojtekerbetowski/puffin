{
 "cells": [
  {
   "cell_type": "code",
   "execution_count": 3,
   "metadata": {},
   "outputs": [],
   "source": [
    "from unittest import mock"
   ]
  },
  {
   "cell_type": "code",
   "execution_count": 22,
   "metadata": {},
   "outputs": [],
   "source": [
    "# basic usage\n",
    "m = mock.Mock()\n",
    "\n",
    "m.return_value = 10\n",
    "\n",
    "assert m(1, 2) == 10\n",
    "\n",
    "m.assert_called_with(1, 2)"
   ]
  },
  {
   "cell_type": "code",
   "execution_count": 27,
   "metadata": {},
   "outputs": [],
   "source": [
    "# advanced case\n",
    "with mock.patch(\"os.walk\") as walk_mock:\n",
    "    walk_mock.return_value = [\"file_name\"]\n",
    "    import os\n",
    "    files_count = 0\n",
    "    for file in os.walk(\"/\"):\n",
    "        files_count += 1\n",
    "    \n",
    "assert files_count == 1"
   ]
  }
 ],
 "metadata": {
  "kernelspec": {
   "display_name": "Python 3",
   "language": "python",
   "name": "python3"
  },
  "language_info": {
   "codemirror_mode": {
    "name": "ipython",
    "version": 3
   },
   "file_extension": ".py",
   "mimetype": "text/x-python",
   "name": "python",
   "nbconvert_exporter": "python",
   "pygments_lexer": "ipython3",
   "version": "3.7.4"
  }
 },
 "nbformat": 4,
 "nbformat_minor": 2
}
