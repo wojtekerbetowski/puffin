{
 "cells": [
  {
   "cell_type": "code",
   "execution_count": null,
   "metadata": {},
   "outputs": [],
   "source": [
    "class User:\n",
    "    def __init__(self, name: str, age: int, address: str):\n",
    "        self.name = name\n",
    "        self.age = age\n",
    "        self.address = address\n",
    "    \n",
    "    def __repr__(self):\n",
    "        print(self.__dict__)\n",
    "        return \"User(name={name}, age={age}, address={address}\".format(**self.__dict__)\n",
    "    \n",
    "    def __eq__(self, other):\n",
    "        pass"
   ]
  },
  {
   "cell_type": "code",
   "execution_count": null,
   "metadata": {},
   "outputs": [],
   "source": [
    "User('Bob', 90, None)"
   ]
  },
  {
   "cell_type": "code",
   "execution_count": null,
   "metadata": {},
   "outputs": [],
   "source": [
    "import dataclasses"
   ]
  },
  {
   "cell_type": "code",
   "execution_count": null,
   "metadata": {},
   "outputs": [],
   "source": [
    "@dataclasses.dataclass\n",
    "class User:\n",
    "    name: str\n",
    "    age: int\n",
    "    address: str"
   ]
  },
  {
   "cell_type": "code",
   "execution_count": null,
   "metadata": {},
   "outputs": [],
   "source": [
    "User('Bob', 90, None)"
   ]
  },
  {
   "cell_type": "code",
   "execution_count": null,
   "metadata": {},
   "outputs": [],
   "source": [
    "def process_registration(name, address):\n",
    "    return (True, '2019-09-16')\n",
    "\n",
    "# vs\n",
    "\n",
    "from dataclasses import dataclass\n",
    "\n",
    "@dataclass\n",
    "class RegistrationRequest:\n",
    "    name: str\n",
    "    address: str\n",
    "\n",
    "@dataclass\n",
    "class RegistrationResult:\n",
    "    status: bool\n",
    "    date: str\n",
    "\n",
    "def process_registration(request: RegistrationRequest):\n",
    "    return RegistrationResult(\n",
    "        status=True,\n",
    "        date='2019-09-16',\n",
    "    )"
   ]
  },
  {
   "cell_type": "code",
   "execution_count": null,
   "metadata": {},
   "outputs": [],
   "source": [
    "# Task\n",
    "\n",
    "# create a wc function\n",
    "# results with line, word and letter count\n",
    "\n",
    "def wc(s: str):\n",
    "    pass\n",
    "\n",
    "result = wc('''bob walks into a bar\n",
    "and meets another bob''')\n",
    "\n",
    "# tuple\n",
    "assert result == (2, 9, 43)\n",
    "\n",
    "# namedtuple\n",
    "assert result.words == 9\n",
    "\n",
    "# dataclass\n",
    "assert result.words == 9"
   ]
  }
 ],
 "metadata": {
  "kernelspec": {
   "display_name": "Python 3",
   "language": "python",
   "name": "python3"
  },
  "language_info": {
   "codemirror_mode": {
    "name": "ipython",
    "version": 3
   },
   "file_extension": ".py",
   "mimetype": "text/x-python",
   "name": "python",
   "nbconvert_exporter": "python",
   "pygments_lexer": "ipython3",
   "version": "3.7.4"
  }
 },
 "nbformat": 4,
 "nbformat_minor": 2
}
